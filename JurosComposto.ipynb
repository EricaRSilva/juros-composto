{
 "cells": [
  {
   "cell_type": "markdown",
   "metadata": {},
   "source": [
    "# Juros Composto são uma boa forma de alavancar os investimentos. E para saber qual será o montante final, temos que saber:\n",
    "\n",
    "1. O capital investido (C)\n",
    "2. A taxa de juros, que é porcentagem cobrada em cima do capital, usaremos a taxa do ano (i)\n",
    "3. o tempo, em meses, que o capital ficará aplicado (t)\n",
    "4. Os juros do rendimento (J), calculado pela subtração do valor final do capital investido\n",
    "5. Montante final após o termino do investimento:M= C*(1+i)^t\n"
   ]
  },
  {
   "cell_type": "code",
   "execution_count": null,
   "metadata": {},
   "outputs": [
    {
     "name": "stdout",
     "output_type": "stream",
     "text": [
      "4.0\n"
     ]
    }
   ],
   "source": [
    "import math"
   ]
  },
  {
   "cell_type": "code",
   "execution_count": null,
   "metadata": {},
   "outputs": [],
   "source": [
    "from math import pow"
   ]
  },
  {
   "cell_type": "code",
   "execution_count": 3,
   "metadata": {},
   "outputs": [],
   "source": [
    "def juros_composto(capital, juros, tempo):\n",
    "    return capital * ((1 + juros) **tempo)\n",
    "\n",
    "def juros_simples(capital, juros, tempo):\n",
    "    return capital + (capital * juros * tempo)"
   ]
  },
  {
   "cell_type": "code",
   "execution_count": 4,
   "metadata": {},
   "outputs": [
    {
     "name": "stdout",
     "output_type": "stream",
     "text": [
      "\n",
      "===== RESULTADOS =====\n",
      "🔹 Tempo investido: 6 meses\n",
      "📌 Juros Compostos:\n",
      "   ➝ Montante final: R$ 2029.78\n",
      "   ➝ Juros ganhos: R$ 29.78\n"
     ]
    }
   ],
   "source": [
    "\n",
    "# Entrada do usuário\n",
    "capital = float(input(\"Digite o capital investido (R$): \"))\n",
    "juros = float(input(\"Digite a taxa de juros anual (%): \")) / 100\n",
    "tempo_meses = int(input(\"Digite o tempo do investimento (meses): \"))\n",
    "\n",
    "# Conversão do tempo para anos\n",
    "tempo_anos = tempo_meses / 12\n",
    "\n",
    "# Cálculos\n",
    "valor_final_composto = juros_composto(capital, juros, tempo_anos)\n",
    "valor_final_simples = juros_simples(capital, juros, tempo_anos)\n",
    "\n",
    "# Exibição dos resultados\n",
    "print(\"\\n===== RESULTADOS =====\")\n",
    "print(f\"🔹 Tempo investido: {tempo_meses} meses\")\n",
    "print(f\"📌 Juros Compostos:\")\n",
    "print(f\"   ➝ Montante final: R$ {valor_final_composto:.2f}\")\n",
    "print(f\"   ➝ Juros ganhos: R$ {(valor_final_composto - capital):.2f}\")\n"
   ]
  },
  {
   "cell_type": "code",
   "execution_count": 5,
   "metadata": {},
   "outputs": [
    {
     "name": "stdout",
     "output_type": "stream",
     "text": [
      "\n",
      "📌 Juros Simples:\n",
      "   ➝ Montante final: R$ 2360.00\n",
      "   ➝ Juros ganhos: R$ 360.00\n"
     ]
    }
   ],
   "source": [
    "valor_final_simples = juros_simples(capital, juros, tempo)\n",
    "\n",
    "print(f\"\\n📌 Juros Simples:\")\n",
    "print(f\"   ➝ Montante final: R$ {valor_final_simples:.2f}\")\n",
    "print(f\"   ➝ Juros ganhos: R$ {(valor_final_simples - capital):.2f}\")"
   ]
  }
 ],
 "metadata": {
  "kernelspec": {
   "display_name": ".venv",
   "language": "python",
   "name": "python3"
  },
  "language_info": {
   "codemirror_mode": {
    "name": "ipython",
    "version": 3
   },
   "file_extension": ".py",
   "mimetype": "text/x-python",
   "name": "python",
   "nbconvert_exporter": "python",
   "pygments_lexer": "ipython3",
   "version": "3.12.6"
  }
 },
 "nbformat": 4,
 "nbformat_minor": 2
}
