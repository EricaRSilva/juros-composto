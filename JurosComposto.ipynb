{
 "cells": [
  {
   "cell_type": "markdown",
   "metadata": {},
   "source": [
    "# Juros Composto são uma boa forma de alavancar os investimentos. E para saber qual será o montante final, temos que saber:\n",
    "\n",
    "1. O capital investido (C)\n",
    "2. A taxa de juros, que é porcentagem cobrada em cima do capital, usaremos a taxa do ano (i)\n",
    "3. o tempo, em meses, que o capital ficará aplicado (t)\n",
    "4. Os juros do rendimento (J), calculado pela subtração do valor final do capital investido\n",
    "5. Montante final após o termino do investimento:M= C*(1+i)^t\n"
   ]
  },
  {
   "cell_type": "code",
   "execution_count": null,
   "metadata": {},
   "outputs": [
    {
     "name": "stdout",
     "output_type": "stream",
     "text": [
      "4.0\n"
     ]
    }
   ],
   "source": [
    "import math"
   ]
  },
  {
   "cell_type": "code",
   "execution_count": null,
   "metadata": {},
   "outputs": [],
   "source": [
    "from math import pow"
   ]
  },
  {
   "cell_type": "code",
   "execution_count": 14,
   "metadata": {},
   "outputs": [],
   "source": [
    "def juros_composto(capital, juros, tempo):\n",
    "    montante = capital * ((1+juros/100) **tempo)\n",
    "    return montante"
   ]
  },
  {
   "cell_type": "code",
   "execution_count": 25,
   "metadata": {},
   "outputs": [
    {
     "name": "stdout",
     "output_type": "stream",
     "text": [
      " O montante final será de: R$ 2000.30\n",
      " Total de juros ganhos: R$ 0.30\n",
      " Tempo investido: 0.5 meses\n"
     ]
    }
   ],
   "source": [
    "capital = float(input(\"Digite o capital investido (R$): \"))\n",
    "juros = float(input(\"Digite a taxa de juros anual (%): \"))\n",
    "tempo = int(input(\"Digite o tempo do investimento (meses): \"))\n",
    "\n",
    "juros = juros / 100     #3% = 3 / 100\n",
    "tempo = tempo / 12\n",
    "\n",
    "valor_final_composto = juros_composto(capital, juros, tempo)\n",
    "\n",
    "print(f\" O montante final será de: R$ {valor_final_composto:.2f}\")\n",
    "print(f\" Total de juros ganhos: R$ {(valor_final_composto - capital):.2f}\")\n",
    "print(f\" Tempo investido: {tempo:} meses\")\n"
   ]
  }
 ],
 "metadata": {
  "kernelspec": {
   "display_name": ".venv",
   "language": "python",
   "name": "python3"
  },
  "language_info": {
   "codemirror_mode": {
    "name": "ipython",
    "version": 3
   },
   "file_extension": ".py",
   "mimetype": "text/x-python",
   "name": "python",
   "nbconvert_exporter": "python",
   "pygments_lexer": "ipython3",
   "version": "3.12.6"
  }
 },
 "nbformat": 4,
 "nbformat_minor": 2
}
